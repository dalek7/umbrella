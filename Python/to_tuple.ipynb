{
 "cells": [
  {
   "cell_type": "code",
   "execution_count": 1,
   "metadata": {},
   "outputs": [],
   "source": [
    "import numpy as np"
   ]
  },
  {
   "cell_type": "code",
   "execution_count": 2,
   "metadata": {},
   "outputs": [
    {
     "name": "stdout",
     "output_type": "stream",
     "text": [
      "[[ 1.   0.1]\n",
      " [ 3.  -0.3]\n",
      " [ 7.  -0.7]]\n"
     ]
    }
   ],
   "source": [
    "arr1 = np.array(((1,0.1),(3,-0.3),(7,-0.7)))\n",
    "print(arr1)"
   ]
  },
  {
   "cell_type": "markdown",
   "metadata": {},
   "source": [
    "### Method #1\n",
    "\n",
    "https://stackoverflow.com/a/10016379"
   ]
  },
  {
   "cell_type": "code",
   "execution_count": 3,
   "metadata": {},
   "outputs": [
    {
     "name": "stdout",
     "output_type": "stream",
     "text": [
      "((1.0, 0.1), (3.0, -0.3), (7.0, -0.7))\n"
     ]
    }
   ],
   "source": [
    "arr2 = tuple(map(tuple, arr1))\n",
    "print(arr2)"
   ]
  },
  {
   "cell_type": "markdown",
   "metadata": {},
   "source": [
    "### Method #2\n",
    "\n",
    "https://stackoverflow.com/a/10016613"
   ]
  },
  {
   "cell_type": "code",
   "execution_count": 4,
   "metadata": {},
   "outputs": [],
   "source": [
    "def totuple(a):\n",
    "    try:\n",
    "        return tuple(totuple(i) for i in a)\n",
    "    except TypeError:\n",
    "        return a"
   ]
  },
  {
   "cell_type": "code",
   "execution_count": 5,
   "metadata": {},
   "outputs": [],
   "source": [
    "array1 = np.array(((1,0.1),(3,-0.3),(7,-0.7)))\n",
    "array2 = totuple(array1)"
   ]
  },
  {
   "cell_type": "code",
   "execution_count": 6,
   "metadata": {},
   "outputs": [
    {
     "name": "stdout",
     "output_type": "stream",
     "text": [
      "[[ 1.   0.1]\n",
      " [ 3.  -0.3]\n",
      " [ 7.  -0.7]]\n"
     ]
    }
   ],
   "source": [
    "print(array1)"
   ]
  },
  {
   "cell_type": "code",
   "execution_count": 7,
   "metadata": {},
   "outputs": [
    {
     "name": "stdout",
     "output_type": "stream",
     "text": [
      "((1.0, 0.1), (3.0, -0.3), (7.0, -0.7))\n"
     ]
    }
   ],
   "source": [
    "print(array2)"
   ]
  }
 ],
 "metadata": {
  "kernelspec": {
   "display_name": "Py35_keras",
   "language": "python",
   "name": "py35_keras"
  },
  "language_info": {
   "codemirror_mode": {
    "name": "ipython",
    "version": 3
   },
   "file_extension": ".py",
   "mimetype": "text/x-python",
   "name": "python",
   "nbconvert_exporter": "python",
   "pygments_lexer": "ipython3",
   "version": "3.5.2"
  }
 },
 "nbformat": 4,
 "nbformat_minor": 2
}
