{
 "cells": [
  {
   "cell_type": "code",
   "execution_count": 1,
   "metadata": {},
   "outputs": [],
   "source": [
    "import numpy as np"
   ]
  },
  {
   "cell_type": "markdown",
   "metadata": {},
   "source": [
    "### np.random.choice"
   ]
  },
  {
   "cell_type": "markdown",
   "metadata": {},
   "source": [
    "```python\n",
    "np.random.seed(0)\n",
    "p = np.array([0.1, 0.0, 0.7, 0.2])\n",
    "index = np.random.choice([0, 1, 2, 3], p = p.ravel())\n",
    "```\n",
    "This means that you will pick the `index` according to the distribution: \n",
    "$P(index = 0) = 0.1, P(index = 1) = 0.0, P(index = 2) = 0.7, P(index = 3) = 0.2$."
   ]
  },
  {
   "cell_type": "code",
   "execution_count": 2,
   "metadata": {},
   "outputs": [
    {
     "name": "stdout",
     "output_type": "stream",
     "text": [
      "[ 0.1  0.   0.6  0.3]\n",
      "[ 0.1  0.   0.6  0.3]\n"
     ]
    }
   ],
   "source": [
    "np.random.seed(0)\n",
    "p = np.array([0.1, 0.0, 0.6, 0.3])\n",
    "print(p)\n",
    "print(p.ravel())"
   ]
  },
  {
   "cell_type": "code",
   "execution_count": 3,
   "metadata": {},
   "outputs": [],
   "source": [
    "v =[0,0,0,0]\n",
    "ntest = 1000\n",
    "for i in range(ntest):\n",
    "    idx = np.random.choice([0, 1, 2, 3], p = p.ravel())\n",
    "    v[idx] += 1\n",
    "    #print(i, idx)"
   ]
  },
  {
   "cell_type": "code",
   "execution_count": 4,
   "metadata": {},
   "outputs": [
    {
     "name": "stdout",
     "output_type": "stream",
     "text": [
      "[98, 0, 611, 291]\n"
     ]
    }
   ],
   "source": [
    "print(v)"
   ]
  },
  {
   "cell_type": "code",
   "execution_count": 5,
   "metadata": {},
   "outputs": [
    {
     "name": "stdout",
     "output_type": "stream",
     "text": [
      "[ 0.098  0.     0.611  0.291]\n"
     ]
    }
   ],
   "source": [
    "v = np.array(v)\n",
    "print(v / float(ntest))"
   ]
  },
  {
   "cell_type": "markdown",
   "metadata": {
    "collapsed": true
   },
   "source": [
    "### np.random.permutation"
   ]
  },
  {
   "cell_type": "code",
   "execution_count": 6,
   "metadata": {},
   "outputs": [
    {
     "name": "stdout",
     "output_type": "stream",
     "text": [
      "[3 0 2 4 1]\n"
     ]
    }
   ],
   "source": [
    "m1 = np.random.permutation(5)\n",
    "print(m1)"
   ]
  },
  {
   "cell_type": "code",
   "execution_count": 7,
   "metadata": {},
   "outputs": [],
   "source": [
    "X = np.array([1,2,3,4,5])\n",
    "m = X.shape[0]\n",
    "permutation = list(np.random.permutation(m))\n",
    "shuffled_X = X[permutation]"
   ]
  },
  {
   "cell_type": "code",
   "execution_count": 8,
   "metadata": {},
   "outputs": [
    {
     "name": "stdout",
     "output_type": "stream",
     "text": [
      "[1 2 3 4 5]\n",
      "[4 5 1 2 3]\n",
      "[3, 4, 0, 1, 2]\n"
     ]
    }
   ],
   "source": [
    "print(X)\n",
    "print(shuffled_X)\n",
    "print(permutation)"
   ]
  },
  {
   "cell_type": "markdown",
   "metadata": {},
   "source": [
    "### np.random.permutation #2"
   ]
  },
  {
   "cell_type": "code",
   "execution_count": 9,
   "metadata": {},
   "outputs": [
    {
     "name": "stdout",
     "output_type": "stream",
     "text": [
      "[[  2.    0.1]\n",
      " [  4.    0.3]\n",
      " [  8.    0.7]\n",
      " [ 10.    0.5]\n",
      " [ 20.   -0.7]]\n",
      "(5, 2)\n"
     ]
    }
   ],
   "source": [
    "x1 = [2, 4, 8, 10, 20]\n",
    "x2 = [0.1,  0.3, 0.7, 0.5, -0.7]\n",
    "X = np.transpose(np.vstack((x1, x2)))\n",
    "print(X)\n",
    "print(X.shape)"
   ]
  },
  {
   "cell_type": "code",
   "execution_count": 10,
   "metadata": {},
   "outputs": [],
   "source": [
    "permutation = np.random.permutation(X.shape[0])"
   ]
  },
  {
   "cell_type": "code",
   "execution_count": 11,
   "metadata": {},
   "outputs": [
    {
     "name": "stdout",
     "output_type": "stream",
     "text": [
      "[[  4.    0.3]\n",
      " [  2.    0.1]\n",
      " [  8.    0.7]\n",
      " [ 10.    0.5]\n",
      " [ 20.   -0.7]]\n"
     ]
    }
   ],
   "source": [
    "X_shuffle=  X[permutation]\n",
    "print(X_shuffle)"
   ]
  },
  {
   "cell_type": "markdown",
   "metadata": {},
   "source": [
    "* 다른 방법"
   ]
  },
  {
   "cell_type": "code",
   "execution_count": 12,
   "metadata": {},
   "outputs": [
    {
     "name": "stdout",
     "output_type": "stream",
     "text": [
      "(array([[  2. ,   0.1],\n",
      "       [  4. ,   0.3],\n",
      "       [  8. ,   0.7],\n",
      "       [ 10. ,   0.5],\n",
      "       [ 20. ,  -0.7]]), (5, 2))\n"
     ]
    }
   ],
   "source": [
    "y1 = [2, 4, 8, 10, 20]\n",
    "y2 = [0.1,  0.3, 0.7, 0.5, -0.7]\n",
    "Y = np.transpose(np.vstack((y1, y2)))\n",
    "print(Y, Y.shape)"
   ]
  },
  {
   "cell_type": "code",
   "execution_count": 13,
   "metadata": {},
   "outputs": [
    {
     "name": "stdout",
     "output_type": "stream",
     "text": [
      "[[  2.    0.1]\n",
      " [  4.    0.3]\n",
      " [ 20.   -0.7]\n",
      " [ 10.    0.5]\n",
      " [  8.    0.7]]\n"
     ]
    }
   ],
   "source": [
    "np.take(Y, np.random.permutation(Y.shape[0]), axis=0, out=Y)\n",
    "# https://stackoverflow.com/a/35647011\n",
    "print(Y)"
   ]
  },
  {
   "cell_type": "markdown",
   "metadata": {},
   "source": [
    "또 다른 방법"
   ]
  },
  {
   "cell_type": "code",
   "execution_count": 14,
   "metadata": {},
   "outputs": [],
   "source": [
    "def tolist(a):\n",
    "    try:\n",
    "        return list(tolist(i) for i in a)\n",
    "    except TypeError:\n",
    "        return a"
   ]
  },
  {
   "cell_type": "code",
   "execution_count": 15,
   "metadata": {},
   "outputs": [
    {
     "name": "stdout",
     "output_type": "stream",
     "text": [
      "[[  2.    0.1]\n",
      " [  4.    0.3]\n",
      " [  8.    0.7]\n",
      " [ 10.    0.5]\n",
      " [ 20.   -0.7]]\n",
      "[[2.0, 0.10000000000000001], [4.0, 0.29999999999999999], [8.0, 0.69999999999999996], [10.0, 0.5], [20.0, -0.69999999999999996]]\n"
     ]
    }
   ],
   "source": [
    "z1 = [2, 4, 8, 10, 20]\n",
    "z2 = [0.1,  0.3, 0.7, 0.5, -0.7]\n",
    "Z = np.transpose(np.vstack((z1, z2)))\n",
    "print(Z)\n",
    "Z1 = tolist(Z)\n",
    "print(Z1)"
   ]
  },
  {
   "cell_type": "code",
   "execution_count": 17,
   "metadata": {},
   "outputs": [
    {
     "name": "stdout",
     "output_type": "stream",
     "text": [
      "[[10.0, 0.5], [2.0, 0.10000000000000001], [4.0, 0.29999999999999999], [20.0, -0.69999999999999996], [8.0, 0.69999999999999996]]\n",
      "[[ 10.    0.5]\n",
      " [  2.    0.1]\n",
      " [  4.    0.3]\n",
      " [ 20.   -0.7]\n",
      " [  8.    0.7]]\n"
     ]
    }
   ],
   "source": [
    "import random\n",
    "random.shuffle(Z1)\n",
    "print(Z1)\n",
    "print(np.array(Z1))"
   ]
  }
 ],
 "metadata": {
  "kernelspec": {
   "display_name": "KerasTF_py2",
   "language": "python",
   "name": "kerastf_py2"
  },
  "language_info": {
   "codemirror_mode": {
    "name": "ipython",
    "version": 2
   },
   "file_extension": ".py",
   "mimetype": "text/x-python",
   "name": "python",
   "nbconvert_exporter": "python",
   "pygments_lexer": "ipython2",
   "version": "2.7.12"
  }
 },
 "nbformat": 4,
 "nbformat_minor": 2
}
